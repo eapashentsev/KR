{
 "cells": [
  {
   "cell_type": "code",
   "execution_count": 53,
   "metadata": {},
   "outputs": [],
   "source": [
    "def read(x):\n",
    "    x = 2 - x\n",
    "    companies = dict()\n",
    "    tickers = os.listdir(path=\"./companies\")\n",
    "    for i in tickers:\n",
    "        companies[i[17:-4]] = pd.read_csv('companies/'+i)\n",
    "        companies[i[17:-4]] = companies[i[17:-4]][['Дата', 'Изм. %']]\n",
    "        companies[i[17:-4]]['Изм. %'] = companies[i[17:-4]]['Изм. %'].str.replace('%', '')\n",
    "        companies[i[17:-4]]['Изм. %'] = companies[i[17:-4]]['Изм. %'].str.replace(',', '.').astype(float)\n",
    "        companies[i[17:-4]] = companies[i[17:-4]][::-1]\n",
    "        if x != 0:\n",
    "            companies[i[17:-4]] = companies[i[17:-4]][:-x]\n",
    "    return companies\n",
    "\n",
    "\n",
    "def predict_one(train, tic):\n",
    "    model = ARIMA(train, order=(5,1,1))\n",
    "    model_fit = model.fit()\n",
    "    result = model_fit.get_forecast()\n",
    "    ci = result.conf_int(alpha = 0.7)\n",
    "    print('{:<20}{:<25}{:<20}{:<20}{:<20}'.format(tic, '%.2f' % result.predicted_mean[0],\n",
    "                                            '%.2f' % result.se_mean,\n",
    "                                           '%.2f to %.2f' % (ci[0,0], ci[0,1]),\n",
    "                                             '%.2f' % np.std(train)))\n",
    "    return result.predicted_mean[0]\n",
    "\n",
    "\n",
    "def predict(companies):\n",
    "    exp = {}\n",
    "    print('{:<20}{:<25}{:<20}{:<20}{:<20}'.format('Тикер', 'Ожидаемая доходность', 'Ошибка', 'Интервал', 'Риск'))\n",
    "    for i in companies:\n",
    "        train = companies[i]['Изм. %'].values\n",
    "        exp[i] = predict_one(train, i)\n",
    "    return exp\n",
    "\n",
    "\n",
    "def cov_matrix(companies):\n",
    "    data = []\n",
    "    for i in companies:\n",
    "        data.append(companies[i]['Изм. %'].values)\n",
    "    cov = np.cov(data)\n",
    "    return cov\n",
    "    \n",
    "    \n",
    "def tobien(m0p, m0, companies, exp):\n",
    "    cov = cov_matrix(companies)\n",
    "    ex = []\n",
    "    for i in companies:\n",
    "        ex.append(exp[i])\n",
    "    ex = np.array([i - m0 for i in ex])\n",
    "    cov_inv = np.linalg.inv(cov)\n",
    "    gp2 = np.dot(ex, cov_inv)\n",
    "    gp2 = np.dot(gp2, ex)\n",
    "    v = ((m0p - m0) / gp2) * cov_inv\n",
    "    v = np.dot(v, ex)\n",
    "    vv = {}\n",
    "    x = 0\n",
    "    for i in companies:\n",
    "        vv[i] = round(v[x], 3)\n",
    "        x += 1\n",
    "    return vv\n",
    "\n",
    "\n",
    "def best10(m0, companies, exp):\n",
    "    for i in exp:\n",
    "        if len(companies) > 10:\n",
    "            if exp[i] < m0:\n",
    "                companies.pop(i)\n",
    "        else:\n",
    "            return companies    \n",
    "    while len(companies) > 10:\n",
    "        cov = cov_matrix(companies)\n",
    "        x = -1\n",
    "        max = -100000000\n",
    "        y = 0\n",
    "        for i in cov:\n",
    "            i = np.sum(i)\n",
    "            if max < i:\n",
    "                max = i\n",
    "                x = y\n",
    "            y += 1        \n",
    "        for i in companies:\n",
    "            if x == 0:\n",
    "                companies.pop(i)\n",
    "                break\n",
    "            x -= 1          \n",
    "    return companies\n",
    "\n",
    "\n",
    "def run(m0, m0p, companies, exp):\n",
    "    companies = best10(m0, companies, exp)\n",
    "    v = tobien(m0p, m0, companies, exp)\n",
    "    sum = 0\n",
    "    result = 0\n",
    "    for i in v:\n",
    "        print('{:>5}: {}'.format(i, v[i].round(3)))\n",
    "        result += v[i] * exp[i]\n",
    "        sum += v[i]\n",
    "    v['unrisk'] = (1 - sum).round(3)\n",
    "    print('Безрисковый:', (1 - sum).round(3))\n",
    "    print('\\nm0p: ', m0p, '%', sep='')\n",
    "    return v\n",
    "\n",
    "def real(companies, v, m0, x):\n",
    "    x = 2 - x\n",
    "    result = 0\n",
    "    for i in v:\n",
    "        if i == 'unrisk':\n",
    "            result += v[i] * m0\n",
    "        else:\n",
    "            result += companies[i][-1:]['Изм. %'][x] * v[i]\n",
    "    return result"
   ]
  },
  {
   "cell_type": "code",
   "execution_count": 54,
   "metadata": {},
   "outputs": [
    {
     "name": "stdout",
     "output_type": "stream",
     "text": [
      "m0: 0.044%\n"
     ]
    }
   ],
   "source": [
    "import pandas as pd\n",
    "import os\n",
    "from statsmodels.tsa.arima.model import ARIMA\n",
    "import numpy as np\n",
    "\n",
    "\n",
    "m0 = 2.306 / 365 * 7\n",
    "m0p = round(3 * m0, 3)\n",
    "print('m0: ', round(m0, 3), '%', sep='')"
   ]
  },
  {
   "cell_type": "code",
   "execution_count": 55,
   "metadata": {},
   "outputs": [
    {
     "name": "stdout",
     "output_type": "stream",
     "text": [
      "Тикер               Ожидаемая доходность     Ошибка              Интервал            Риск                \n",
      "DIS                 1.74                     4.49                0.01 to 3.47        4.42                \n",
      "MRK                 -0.63                    2.99                -1.79 to 0.52       3.06                \n",
      "PG                  -1.80                    2.53                -2.77 to -0.83      2.55                \n",
      "WBA                 2.07                     5.72                -0.13 to 4.28       5.86                \n",
      "MSFT                2.25                     3.27                0.99 to 3.51        3.66                \n",
      "DOW                 -0.60                    4.61                -2.38 to 1.17       4.95                \n",
      "CAT                 -3.42                    3.62                -4.81 to -2.02      4.22                \n",
      "GS                  -1.77                    4.12                -3.36 to -0.18      4.66                \n",
      "BA                  0.38                     8.81                -3.01 to 3.77       8.90                \n",
      "MCD                 -0.90                    2.52                -1.87 to 0.07       2.68                \n",
      "CSCO                1.49                     3.48                0.15 to 2.83        3.67                \n",
      "AXP                 -1.18                    5.85                -3.43 to 1.08       5.96                \n",
      "INTC                0.95                     4.39                -0.74 to 2.64       4.89                \n",
      "TRV                 -0.96                    4.53                -2.71 to 0.79       4.86                \n",
      "MMM                 0.81                     3.10                -0.38 to 2.01       3.48                \n",
      "JPM                 1.15                     4.68                -0.66 to 2.95       4.86                \n",
      "CVX                 1.46                     5.21                -0.54 to 3.47       5.09                \n",
      "CRM-2               2.09                     6.53                -0.43 to 4.61       6.62                \n",
      "UNH                 -0.79                    3.74                -2.23 to 0.66       3.99                \n",
      "KO                  -0.21                    3.33                -1.49 to 1.08       3.38                \n",
      "JNJ                 1.24                     2.65                0.22 to 2.26        2.77                \n",
      "AAPL                -0.38                    4.44                -2.09 to 1.34       4.44                \n",
      "HON                 0.78                     4.42                -0.92 to 2.49       4.65                \n",
      "AMGN                0.10                     3.63                -1.30 to 1.50       3.79                \n",
      "V                   0.72                     3.42                -0.60 to 2.03       3.66                \n",
      "IBM                 -0.47                    2.98                -1.61 to 0.68       3.32                \n",
      "NKE-2               -1.43                    3.44                -2.76 to -0.11      3.81                \n",
      "WMT                 1.20                     2.97                0.05 to 2.34        3.09                \n",
      "HD                  -0.27                    3.13                -1.48 to 0.93       3.16                \n"
     ]
    }
   ],
   "source": [
    "companies = read(0)\n",
    "exp = predict(companies)"
   ]
  },
  {
   "cell_type": "code",
   "execution_count": 56,
   "metadata": {},
   "outputs": [
    {
     "name": "stdout",
     "output_type": "stream",
     "text": [
      "  DIS: 0.002\n",
      " MSFT: 0.027\n",
      " CSCO: 0.003\n",
      " INTC: -0.001\n",
      "  MMM: -0.001\n",
      "  JPM: 0.008\n",
      "  JNJ: 0.027\n",
      " AMGN: -0.016\n",
      "    V: -0.015\n",
      "  WMT: -0.005\n",
      "Безрисковый: 0.971\n",
      "\n",
      "m0p: 0.133%\n"
     ]
    }
   ],
   "source": [
    "v = run(m0, m0p, companies, exp)"
   ]
  },
  {
   "cell_type": "code",
   "execution_count": 57,
   "metadata": {},
   "outputs": [
    {
     "name": "stdout",
     "output_type": "stream",
     "text": [
      "Реальная доходность: 0.098%\n"
     ]
    }
   ],
   "source": [
    "companies = read(1)\n",
    "print('Реальная доходность: ', round(real(companies, v, m0, 1), 3), '%', sep='')"
   ]
  },
  {
   "cell_type": "code",
   "execution_count": 58,
   "metadata": {
    "scrolled": true
   },
   "outputs": [
    {
     "name": "stdout",
     "output_type": "stream",
     "text": [
      "Тикер               Ожидаемая доходность     Ошибка              Интервал            Риск                \n",
      "DIS                 1.38                     4.45                -0.33 to 3.10       4.38                \n",
      "MRK                 -0.71                    2.98                -1.86 to 0.44       3.05                \n",
      "PG                  -1.25                    2.55                -2.24 to -0.27      2.53                \n",
      "WBA                 0.40                     5.84                -1.85 to 2.65       6.06                \n",
      "MSFT                2.51                     3.23                1.26 to 3.75        3.62                \n",
      "DOW                 2.06                     4.58                0.30 to 3.83        4.90                \n",
      "CAT                 -0.26                    3.75                -1.70 to 1.19       4.19                \n",
      "GS                  2.91                     4.25                1.28 to 4.55        4.67                \n",
      "BA                  2.64                     9.20                -0.90 to 6.19       9.23                \n",
      "MCD                 0.44                     2.54                -0.54 to 1.42       2.67                \n",
      "CSCO                -0.16                    3.48                -1.50 to 1.18       3.71                \n",
      "AXP                 -0.80                    5.79                -3.03 to 1.43       5.90                \n",
      "INTC                3.20                     4.36                1.51 to 4.88        4.86                \n",
      "TRV                 1.39                     4.53                -0.36 to 3.13       4.82                \n",
      "MMM                 -0.21                    3.08                -1.39 to 0.98       3.45                \n",
      "JPM                 1.88                     4.65                0.09 to 3.67        4.82                \n",
      "CVX                 1.46                     5.16                -0.52 to 3.45       5.05                \n",
      "CRM-2               1.81                     6.47                -0.68 to 4.30       6.55                \n",
      "UNH                 -1.51                    3.73                -2.94 to -0.07      3.96                \n",
      "KO                  0.22                     3.30                -1.05 to 1.49       3.35                \n",
      "JNJ                 0.65                     2.62                -0.36 to 1.65       2.75                \n",
      "AAPL                0.45                     4.40                -1.25 to 2.14       4.40                \n",
      "HON                 0.93                     4.40                -0.76 to 2.63       4.62                \n",
      "AMGN                0.23                     3.59                -1.15 to 1.62       3.75                \n",
      "V                   0.42                     3.41                -0.90 to 1.73       3.66                \n",
      "IBM                 -1.00                    3.02                -2.16 to 0.16       3.33                \n",
      "NKE-2               1.60                     3.44                0.27 to 2.92        3.82                \n",
      "WMT                 0.61                     2.95                -0.53 to 1.75       3.10                \n",
      "HD                  -2.16                    3.26                -3.42 to -0.91      3.29                \n"
     ]
    }
   ],
   "source": [
    "exp = predict(companies)"
   ]
  },
  {
   "cell_type": "code",
   "execution_count": 59,
   "metadata": {},
   "outputs": [
    {
     "name": "stdout",
     "output_type": "stream",
     "text": [
      " MSFT: 0.032\n",
      "  MCD: -0.005\n",
      "  CVX: 0.008\n",
      "   KO: -0.002\n",
      "  JNJ: 0.009\n",
      " AAPL: -0.011\n",
      " AMGN: -0.008\n",
      "    V: -0.012\n",
      "NKE-2: 0.007\n",
      "  WMT: -0.008\n",
      "Безрисковый: 0.99\n",
      "\n",
      "m0p: 0.133%\n"
     ]
    }
   ],
   "source": [
    "v = run(m0, m0p, companies, exp)"
   ]
  },
  {
   "cell_type": "code",
   "execution_count": 60,
   "metadata": {},
   "outputs": [
    {
     "name": "stdout",
     "output_type": "stream",
     "text": [
      "Реальная доходность: -0.063%\n"
     ]
    }
   ],
   "source": [
    "companies = read(2)\n",
    "print('Реальная доходность: ', round(real(companies, v, m0, 2), 3), '%', sep='')"
   ]
  },
  {
   "cell_type": "code",
   "execution_count": 61,
   "metadata": {},
   "outputs": [
    {
     "name": "stdout",
     "output_type": "stream",
     "text": [
      "Тикер               Ожидаемая доходность     Ошибка              Интервал            Риск                \n",
      "DIS                 1.48                     4.45                -0.24 to 3.19       4.38                \n",
      "MRK                 -0.97                    3.02                -2.14 to 0.19       3.07                \n",
      "PG                  -0.84                    2.53                -1.82 to 0.13       2.50                \n",
      "WBA                 0.21                     5.78                -2.02 to 2.43       6.01                \n",
      "MSFT                2.62                     3.27                1.36 to 3.88        3.61                \n",
      "DOW                 -0.60                    4.54                -2.35 to 1.15       4.86                \n",
      "CAT                 -0.37                    3.71                -1.80 to 1.07       4.17                \n",
      "GS                  1.34                     4.24                -0.30 to 2.97       4.64                \n",
      "BA                  3.68                     9.15                0.15 to 7.20        9.18                \n",
      "MCD                 0.63                     2.58                -0.36 to 1.63       2.71                \n",
      "CSCO                -1.14                    3.44                -2.47 to 0.18       3.67                \n",
      "AXP                 0.23                     5.76                -1.99 to 2.45       5.91                \n",
      "INTC                1.76                     4.32                0.10 to 3.43        4.81                \n",
      "TRV                 1.90                     4.57                0.14 to 3.66        4.85                \n",
      "MMM                 -1.34                    3.06                -2.52 to -0.16      3.42                \n",
      "JPM                 1.55                     4.61                -0.22 to 3.33       4.78                \n",
      "CVX                 -0.43                    5.21                -2.43 to 1.58       5.12                \n",
      "CRM-2               0.26                     6.41                -2.21 to 2.73       6.48                \n",
      "UNH                 -0.80                    3.75                -2.24 to 0.64       3.93                \n",
      "KO                  0.04                     3.26                -1.22 to 1.29       3.32                \n",
      "JNJ                 -0.92                    2.59                -1.92 to 0.08       2.73                \n",
      "AAPL                0.92                     4.36                -0.76 to 2.59       4.37                \n",
      "HON                 0.72                     4.36                -0.96 to 2.40       4.58                \n",
      "AMGN                -0.57                    3.67                -1.98 to 0.84       3.82                \n",
      "V                   0.11                     3.56                -1.26 to 1.49       3.81                \n",
      "IBM                 -1.77                    3.00                -2.92 to -0.61      3.30                \n",
      "NKE-2               2.53                     3.45                1.20 to 3.86        3.81                \n",
      "WMT                 -2.26                    2.94                -3.39 to -1.13      3.08                \n",
      "HD                  -1.64                    3.38                -2.94 to -0.34      3.34                \n"
     ]
    }
   ],
   "source": [
    "exp = predict(companies)"
   ]
  },
  {
   "cell_type": "code",
   "execution_count": 62,
   "metadata": {},
   "outputs": [
    {
     "name": "stdout",
     "output_type": "stream",
     "text": [
      "  DIS: 0.001\n",
      "  WBA: -0.004\n",
      " MSFT: 0.022\n",
      "  MCD: -0.007\n",
      " INTC: 0.003\n",
      "  TRV: 0.004\n",
      "  JPM: 0.006\n",
      " AAPL: -0.008\n",
      "    V: -0.014\n",
      "NKE-2: 0.009\n",
      "Безрисковый: 0.988\n",
      "\n",
      "m0p: 0.133%\n"
     ]
    }
   ],
   "source": [
    "v = run(m0, m0p, companies, exp)"
   ]
  },
  {
   "cell_type": "code",
   "execution_count": 1,
   "metadata": {},
   "outputs": [
    {
     "ename": "SyntaxError",
     "evalue": "invalid syntax (<ipython-input-1-3d20d3dcf043>, line 1)",
     "output_type": "error",
     "traceback": [
      "\u001b[0;36m  File \u001b[0;32m\"<ipython-input-1-3d20d3dcf043>\"\u001b[0;36m, line \u001b[0;32m1\u001b[0m\n\u001b[0;31m    sudo python3 -m pip install wheel\u001b[0m\n\u001b[0m         ^\u001b[0m\n\u001b[0;31mSyntaxError\u001b[0m\u001b[0;31m:\u001b[0m invalid syntax\n"
     ]
    }
   ],
   "source": [
    "sudo python3 -m pip install wheel\n"
   ]
  },
  {
   "cell_type": "code",
   "execution_count": 2,
   "metadata": {},
   "outputs": [
    {
     "ename": "SyntaxError",
     "evalue": "invalid syntax (<ipython-input-2-3d20d3dcf043>, line 1)",
     "output_type": "error",
     "traceback": [
      "\u001b[0;36m  File \u001b[0;32m\"<ipython-input-2-3d20d3dcf043>\"\u001b[0;36m, line \u001b[0;32m1\u001b[0m\n\u001b[0;31m    sudo python3 -m pip install wheel\u001b[0m\n\u001b[0m         ^\u001b[0m\n\u001b[0;31mSyntaxError\u001b[0m\u001b[0;31m:\u001b[0m invalid syntax\n"
     ]
    }
   ],
   "source": [
    "sudo python3 -m pip install wheel\n"
   ]
  },
  {
   "cell_type": "code",
   "execution_count": 3,
   "metadata": {},
   "outputs": [
    {
     "name": "stdout",
     "output_type": "stream",
     "text": [
      "Password:\n"
     ]
    }
   ],
   "source": [
    "!sudo python3 -m pi"
   ]
  },
  {
   "cell_type": "code",
   "execution_count": 4,
   "metadata": {},
   "outputs": [
    {
     "name": "stdout",
     "output_type": "stream",
     "text": [
      "zsh:1: command not found: warface2143647\r\n"
     ]
    }
   ],
   "source": [
    "!warface2143647\n"
   ]
  },
  {
   "cell_type": "code",
   "execution_count": 2,
   "metadata": {},
   "outputs": [
    {
     "ename": "SyntaxError",
     "evalue": "invalid syntax (<ipython-input-2-83358da30272>, line 1)",
     "output_type": "error",
     "traceback": [
      "\u001b[0;36m  File \u001b[0;32m\"<ipython-input-2-83358da30272>\"\u001b[0;36m, line \u001b[0;32m1\u001b[0m\n\u001b[0;31m    pip3 install pandas\u001b[0m\n\u001b[0m         ^\u001b[0m\n\u001b[0;31mSyntaxError\u001b[0m\u001b[0;31m:\u001b[0m invalid syntax\n"
     ]
    }
   ],
   "source": [
    "pip3 install pandas"
   ]
  },
  {
   "cell_type": "code",
   "execution_count": 5,
   "metadata": {},
   "outputs": [
    {
     "name": "stdout",
     "output_type": "stream",
     "text": [
      "Requirement already satisfied: pandas in /Library/Frameworks/Python.framework/Versions/3.8/lib/python3.8/site-packages (1.2.4)\r\n",
      "Requirement already satisfied: pytz>=2017.3 in /Library/Frameworks/Python.framework/Versions/3.8/lib/python3.8/site-packages (from pandas) (2021.1)\r\n",
      "Requirement already satisfied: numpy>=1.16.5 in /Library/Frameworks/Python.framework/Versions/3.8/lib/python3.8/site-packages (from pandas) (1.20.3)\r\n",
      "Requirement already satisfied: python-dateutil>=2.7.3 in /Library/Frameworks/Python.framework/Versions/3.8/lib/python3.8/site-packages (from pandas) (2.8.1)\r\n",
      "Requirement already satisfied: six>=1.5 in /Library/Frameworks/Python.framework/Versions/3.8/lib/python3.8/site-packages (from python-dateutil>=2.7.3->pandas) (1.16.0)\r\n"
     ]
    }
   ],
   "source": [
    " !python3 -m pip install pandas\n",
    "    "
   ]
  },
  {
   "cell_type": "code",
   "execution_count": 4,
   "metadata": {},
   "outputs": [
    {
     "name": "stdout",
     "output_type": "stream",
     "text": [
      "zsh:1: command not found: pip\r\n"
     ]
    }
   ],
   "source": [
    "!pip install pandas\n"
   ]
  },
  {
   "cell_type": "code",
   "execution_count": 3,
   "metadata": {},
   "outputs": [
    {
     "ename": "ModuleNotFoundError",
     "evalue": "No module named 'pandas'",
     "output_type": "error",
     "traceback": [
      "\u001b[0;31m---------------------------------------------------------------------------\u001b[0m",
      "\u001b[0;31mModuleNotFoundError\u001b[0m                       Traceback (most recent call last)",
      "\u001b[0;32m<ipython-input-3-38d4b0363d82>\u001b[0m in \u001b[0;36m<module>\u001b[0;34m\u001b[0m\n\u001b[0;32m----> 1\u001b[0;31m \u001b[0;32mimport\u001b[0m \u001b[0mpandas\u001b[0m\u001b[0;34m\u001b[0m\u001b[0;34m\u001b[0m\u001b[0m\n\u001b[0m",
      "\u001b[0;31mModuleNotFoundError\u001b[0m: No module named 'pandas'"
     ]
    }
   ],
   "source": [
    "import pandas"
   ]
  },
  {
   "cell_type": "code",
   "execution_count": 4,
   "metadata": {},
   "outputs": [
    {
     "name": "stdout",
     "output_type": "stream",
     "text": [
      "zsh:1: command not found: conda\r\n"
     ]
    }
   ],
   "source": [
    "!conda help\n"
   ]
  }
 ],
 "metadata": {
  "kernelspec": {
   "display_name": "Python 3",
   "language": "python",
   "name": "python3"
  },
  "language_info": {
   "codemirror_mode": {
    "name": "ipython",
    "version": 3
   },
   "file_extension": ".py",
   "mimetype": "text/x-python",
   "name": "python",
   "nbconvert_exporter": "python",
   "pygments_lexer": "ipython3",
   "version": "3.8.8"
  }
 },
 "nbformat": 4,
 "nbformat_minor": 4
}
